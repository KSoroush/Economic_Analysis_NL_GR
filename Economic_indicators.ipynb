{
 "cells": [
  {
   "attachments": {},
   "cell_type": "markdown",
   "metadata": {},
   "source": [
    "\"Requests\" and \"json\" to request and decode the json file:"
   ]
  },
  {
   "cell_type": "code",
   "execution_count": 1,
   "metadata": {},
   "outputs": [],
   "source": [
    "import pandas as pd\n",
    "import requests\n",
    "import json\n",
    "import plotly.graph_objects as go\n"
   ]
  },
  {
   "cell_type": "code",
   "execution_count": 8,
   "metadata": {},
   "outputs": [],
   "source": [
    "#To see how the requests work, you may enter your desired url below and run the command to see it as json:\n",
    "#url='XXXXXXX'\n",
    "#r = requests.get(url)\n",
    "#r.json()\n",
    "\n"
   ]
  },
  {
   "attachments": {},
   "cell_type": "markdown",
   "metadata": {},
   "source": [
    "Having read the json file and passing the meta data, the dictionary \"series\" seems to be containing the desired data. There is another dictionart in series which is called \"docs.\" The data we are looking for are \"period\" and \"values.\"\n",
    "Extracting the data from json, we must creat a dataframe with the index as \"periods.\" Since we are going to analyze mroe than one indicator, so defined \"Indicator_Analysis\" function to loop as many url/indicator as entered."
   ]
  },
  {
   "cell_type": "code",
   "execution_count": 4,
   "metadata": {},
   "outputs": [],
   "source": [
    "def Indicator_Analysis(url):\n",
    "\n",
    "    r = requests.get(url)\n",
    "    r = r.json()\n",
    "\n",
    "    periods = r['series']['docs'][0]['period']\n",
    "    values = r['series']['docs'][0]['value']\n",
    "    dataset = r['series']['docs'][0]['dataset_name']\n",
    "    indicators = pd.DataFrame(values,index=periods)\n",
    "    indicators.columns = [dataset]\n",
    "    return indicators\n",
    "\n",
    "Inflation_Netherlands = Indicator_Analysis('https://api.db.nomics.world/v22/series/WB/WDI/A-FP.CPI.TOTL.ZG-NLD?observations=1')\n",
    "Inflation_Germany = Indicator_Analysis('https://api.db.nomics.world/v22/series/WB/WDI/A-FP.CPI.TOTL.ZG-DEU?observations=1')\n",
    "GDP_Netherlands = Indicator_Analysis('https://api.db.nomics.world/v22/series/WB/WDI/A-BG.GSR.NFSV.GD.ZS-NLD?observations=1')\n",
    "GDP_Germany = Indicator_Analysis('https://api.db.nomics.world/v22/series/WB/WDI/A-BG.GSR.NFSV.GD.ZS-DEU?observations=1')\n",
    "\n",
    "\n",
    "\n"
   ]
  },
  {
   "attachments": {},
   "cell_type": "markdown",
   "metadata": {},
   "source": [
    "Creating a figure and tracers(for indicators):"
   ]
  },
  {
   "cell_type": "code",
   "execution_count": 15,
   "metadata": {},
   "outputs": [
    {
     "data": {
      "application/vnd.plotly.v1+json": {
       "config": {
        "plotlyServerURL": "https://plot.ly"
       },
       "data": [
        {
         "line": {
          "color": "blue"
         },
         "name": "Inflation_NL%",
         "opacity": 0.9,
         "type": "scatter",
         "x": [
          "1960",
          "1961",
          "1962",
          "1963",
          "1964",
          "1965",
          "1966",
          "1967",
          "1968",
          "1969",
          "1970",
          "1971",
          "1972",
          "1973",
          "1974",
          "1975",
          "1976",
          "1977",
          "1978",
          "1979",
          "1980",
          "1981",
          "1982",
          "1983",
          "1984",
          "1985",
          "1986",
          "1987",
          "1988",
          "1989",
          "1990",
          "1991",
          "1992",
          "1993",
          "1994",
          "1995",
          "1996",
          "1997",
          "1998",
          "1999",
          "2000",
          "2001",
          "2002",
          "2003",
          "2004",
          "2005",
          "2006",
          "2007",
          "2008",
          "2009",
          "2010",
          "2011",
          "2012",
          "2013",
          "2014",
          "2015",
          "2016",
          "2017",
          "2018",
          "2019",
          "2020",
          "2021"
         ],
         "y": [
          2.32394366197218,
          1.30763936682733,
          2.43112264417808,
          3.24364737396402,
          5.82376825817436,
          3.90803782779624,
          5.76214023622457,
          3.45533218314714,
          3.72079328019139,
          7.42179005501286,
          3.66893088808657,
          7.47767867671158,
          7.80279219256613,
          8.02220995878924,
          9.59142267268517,
          10.2174757948242,
          8.83065158603149,
          6.39929487406091,
          4.11201196269292,
          4.19929990168351,
          6.51345545521795,
          6.73892655204789,
          5.91109658468382,
          2.74084033162254,
          3.30164075759306,
          2.25858442988615,
          0.0833467771085985,
          -0.69121048141158,
          0.737950688332387,
          1.08215810253293,
          2.45409184818342,
          3.15820041477126,
          3.18358181761553,
          2.58418448671794,
          2.80152463293184,
          1.92322003453521,
          1.94936713166006,
          2.1092456273948,
          1.95913632274256,
          2.15717918055056,
          2.36052233801956,
          4.15584127195611,
          3.28753104712768,
          2.09199838997658,
          1.26364739183177,
          1.68813017869622,
          1.10150106517704,
          1.61385859802103,
          2.48650198289454,
          1.18977687021549,
          1.27530569556686,
          2.3410701775137,
          2.45554765291609,
          2.50689852657884,
          0.976035079699661,
          0.600248147278775,
          0.316666666666663,
          1.3814587140721,
          1.70349794744475,
          2.63369910249593,
          1.2724603778917,
          2.67572008805381
         ]
        },
        {
         "line": {
          "color": "red"
         },
         "name": "Inflation_GR%",
         "opacity": 0.9,
         "type": "scatter",
         "x": [
          "1960",
          "1961",
          "1962",
          "1963",
          "1964",
          "1965",
          "1966",
          "1967",
          "1968",
          "1969",
          "1970",
          "1971",
          "1972",
          "1973",
          "1974",
          "1975",
          "1976",
          "1977",
          "1978",
          "1979",
          "1980",
          "1981",
          "1982",
          "1983",
          "1984",
          "1985",
          "1986",
          "1987",
          "1988",
          "1989",
          "1990",
          "1991",
          "1992",
          "1993",
          "1994",
          "1995",
          "1996",
          "1997",
          "1998",
          "1999",
          "2000",
          "2001",
          "2002",
          "2003",
          "2004",
          "2005",
          "2006",
          "2007",
          "2008",
          "2009",
          "2010",
          "2011",
          "2012",
          "2013",
          "2014",
          "2015",
          "2016",
          "2017",
          "2018",
          "2019",
          "2020",
          "2021"
         ],
         "y": [
          1.53661155971013,
          2.29367579618988,
          2.84328008602129,
          2.96696086316878,
          2.33572809548972,
          3.24232938546164,
          3.53305857768815,
          1.79604550700727,
          1.47030439199653,
          1.91266394636876,
          3.4502416671467,
          5.24097417077837,
          5.48493671907592,
          7.03202572360937,
          6.98643242500426,
          5.91032884500704,
          4.24663460795069,
          3.73416842414874,
          2.71869053600734,
          4.04362200638281,
          5.44105619058071,
          6.34424091961786,
          5.24104712605721,
          3.29341460291844,
          2.40579506889857,
          2.06623073224692,
          -0.129412805250905,
          0.249906160316282,
          1.27412397156105,
          2.78055980684944,
          2.69647137791463,
          4.04703681637387,
          5.05697932185187,
          4.47457505486754,
          2.69305738121724,
          1.70616052419454,
          1.44972647330127,
          1.93936942452383,
          0.911185301235183,
          0.58543314394471,
          1.44026818676794,
          1.98385693617829,
          1.42080560518857,
          1.03422776551069,
          1.66573340932676,
          1.54690965159041,
          1.57742825864226,
          2.29834179696226,
          2.62838174873985,
          0.31273762987172,
          1.10380916115812,
          2.07517452479837,
          2.0084909216701,
          1.5047209800535,
          0.906797948515676,
          0.51442053951781,
          0.49174862477081,
          1.50949655801608,
          1.73216766075662,
          1.4456670146976,
          0.506689889953274,
          3.14296967309964
         ]
        },
        {
         "line": {
          "color": "brown"
         },
         "name": "GDP_NL%",
         "opacity": 0.9,
         "type": "scatter",
         "x": [
          "1960",
          "1961",
          "1962",
          "1963",
          "1964",
          "1965",
          "1966",
          "1967",
          "1968",
          "1969",
          "1970",
          "1971",
          "1972",
          "1973",
          "1974",
          "1975",
          "1976",
          "1977",
          "1978",
          "1979",
          "1980",
          "1981",
          "1982",
          "1983",
          "1984",
          "1985",
          "1986",
          "1987",
          "1988",
          "1989",
          "1990",
          "1991",
          "1992",
          "1993",
          "1994",
          "1995",
          "1996",
          "1997",
          "1998",
          "1999",
          "2000",
          "2001",
          "2002",
          "2003",
          "2004",
          "2005",
          "2006",
          "2007",
          "2008",
          "2009",
          "2010",
          "2011",
          "2012",
          "2013",
          "2014",
          "2015",
          "2016",
          "2017",
          "2018",
          "2019",
          "2020",
          "2021"
         ],
         "y": [
          "NA",
          "NA",
          "NA",
          "NA",
          "NA",
          "NA",
          "NA",
          14.0392255712551,
          14.2850428605471,
          12.9697131360134,
          13.0931440456917,
          17.1542330691492,
          15.8732410322775,
          16.1382923240102,
          16.9993336156708,
          17.1503829792581,
          16.81939857689,
          16.5052657238669,
          16.4466096074244,
          16.6826765385295,
          18.4461615562848,
          19.6060313509123,
          19.9552131576446,
          18.5144950419791,
          19.5705801868106,
          20.4544622212722,
          18.4205160433812,
          17.6585332515471,
          18.3294575253654,
          19.4279150555379,
          18.8606066307386,
          20.7232679173202,
          21.432830306701,
          21.7428569909331,
          22.1375622834897,
          20.1335103328467,
          20.6204109438983,
          22.6189763996729,
          22.0962941553162,
          22.5188556737369,
          24.1847025068664,
          24.208680336165,
          24.1485731605926,
          22.3825269826699,
          27.9613484933396,
          28.2876447738003,
          28.0171052639362,
          29.1435380651848,
          29.4914232129805,
          30.4085481564559,
          30.5827500163618,
          31.8648436515331,
          32.9954622504473,
          33.5312347029644,
          35.6344268253345,
          46.0122927470197,
          39.2835650932247,
          41.011174329149,
          42.7334609240329,
          42.0506732561067,
          38.856854233787,
          34.9096934885047
         ]
        },
        {
         "line": {
          "color": "pink"
         },
         "name": "GDP_GR%",
         "opacity": 0.9,
         "type": "scatter",
         "x": [
          "1960",
          "1961",
          "1962",
          "1963",
          "1964",
          "1965",
          "1966",
          "1967",
          "1968",
          "1969",
          "1970",
          "1971",
          "1972",
          "1973",
          "1974",
          "1975",
          "1976",
          "1977",
          "1978",
          "1979",
          "1980",
          "1981",
          "1982",
          "1983",
          "1984",
          "1985",
          "1986",
          "1987",
          "1988",
          "1989",
          "1990",
          "1991",
          "1992",
          "1993",
          "1994",
          "1995",
          "1996",
          "1997",
          "1998",
          "1999",
          "2000",
          "2001",
          "2002",
          "2003",
          "2004",
          "2005",
          "2006",
          "2007",
          "2008",
          "2009",
          "2010",
          "2011",
          "2012",
          "2013",
          "2014",
          "2015",
          "2016",
          "2017",
          "2018",
          "2019",
          "2020",
          "2021"
         ],
         "y": [
          "NA",
          "NA",
          "NA",
          "NA",
          "NA",
          "NA",
          "NA",
          "NA",
          "NA",
          "NA",
          "NA",
          5.08592520461986,
          4.99751801340208,
          4.93170451290832,
          5.07532631993643,
          5.75571297464559,
          7.28767148677039,
          7.20453472533945,
          7.26530977174181,
          7.31399859845149,
          8.15865658086548,
          8.87564265721679,
          9.28384184237994,
          8.90002920995901,
          8.8896719712579,
          9.15594437358218,
          8.37232226875562,
          8.23790333165037,
          8.07982457025671,
          8.41204473760568,
          8.39625369518361,
          8.04549789706638,
          8.03387012596728,
          7.87429557029872,
          7.88218770906559,
          8.02574392501732,
          8.35675458691627,
          9.29127802781442,
          9.62985655291748,
          10.0496165532271,
          11.200518927751,
          11.5472877235798,
          11.7479306257604,
          11.699875089975,
          12.3401629459495,
          13.0683307312395,
          13.6629097269969,
          13.813822952773,
          14.2178125319093,
          14.0141300776329,
          14.5575675499416,
          14.7676911693701,
          15.6232867424405,
          16.2210383550627,
          16.4655842242303,
          17.3432207731068,
          17.5708845602773,
          18.1691560555928,
          18.42394357919,
          18.8381293575172,
          16.3063749025294,
          18.1398989105144
         ]
        }
       ],
       "layout": {
        "template": {
         "data": {
          "bar": [
           {
            "error_x": {
             "color": "#2a3f5f"
            },
            "error_y": {
             "color": "#2a3f5f"
            },
            "marker": {
             "line": {
              "color": "#E5ECF6",
              "width": 0.5
             },
             "pattern": {
              "fillmode": "overlay",
              "size": 10,
              "solidity": 0.2
             }
            },
            "type": "bar"
           }
          ],
          "barpolar": [
           {
            "marker": {
             "line": {
              "color": "#E5ECF6",
              "width": 0.5
             },
             "pattern": {
              "fillmode": "overlay",
              "size": 10,
              "solidity": 0.2
             }
            },
            "type": "barpolar"
           }
          ],
          "carpet": [
           {
            "aaxis": {
             "endlinecolor": "#2a3f5f",
             "gridcolor": "white",
             "linecolor": "white",
             "minorgridcolor": "white",
             "startlinecolor": "#2a3f5f"
            },
            "baxis": {
             "endlinecolor": "#2a3f5f",
             "gridcolor": "white",
             "linecolor": "white",
             "minorgridcolor": "white",
             "startlinecolor": "#2a3f5f"
            },
            "type": "carpet"
           }
          ],
          "choropleth": [
           {
            "colorbar": {
             "outlinewidth": 0,
             "ticks": ""
            },
            "type": "choropleth"
           }
          ],
          "contour": [
           {
            "colorbar": {
             "outlinewidth": 0,
             "ticks": ""
            },
            "colorscale": [
             [
              0,
              "#0d0887"
             ],
             [
              0.1111111111111111,
              "#46039f"
             ],
             [
              0.2222222222222222,
              "#7201a8"
             ],
             [
              0.3333333333333333,
              "#9c179e"
             ],
             [
              0.4444444444444444,
              "#bd3786"
             ],
             [
              0.5555555555555556,
              "#d8576b"
             ],
             [
              0.6666666666666666,
              "#ed7953"
             ],
             [
              0.7777777777777778,
              "#fb9f3a"
             ],
             [
              0.8888888888888888,
              "#fdca26"
             ],
             [
              1,
              "#f0f921"
             ]
            ],
            "type": "contour"
           }
          ],
          "contourcarpet": [
           {
            "colorbar": {
             "outlinewidth": 0,
             "ticks": ""
            },
            "type": "contourcarpet"
           }
          ],
          "heatmap": [
           {
            "colorbar": {
             "outlinewidth": 0,
             "ticks": ""
            },
            "colorscale": [
             [
              0,
              "#0d0887"
             ],
             [
              0.1111111111111111,
              "#46039f"
             ],
             [
              0.2222222222222222,
              "#7201a8"
             ],
             [
              0.3333333333333333,
              "#9c179e"
             ],
             [
              0.4444444444444444,
              "#bd3786"
             ],
             [
              0.5555555555555556,
              "#d8576b"
             ],
             [
              0.6666666666666666,
              "#ed7953"
             ],
             [
              0.7777777777777778,
              "#fb9f3a"
             ],
             [
              0.8888888888888888,
              "#fdca26"
             ],
             [
              1,
              "#f0f921"
             ]
            ],
            "type": "heatmap"
           }
          ],
          "heatmapgl": [
           {
            "colorbar": {
             "outlinewidth": 0,
             "ticks": ""
            },
            "colorscale": [
             [
              0,
              "#0d0887"
             ],
             [
              0.1111111111111111,
              "#46039f"
             ],
             [
              0.2222222222222222,
              "#7201a8"
             ],
             [
              0.3333333333333333,
              "#9c179e"
             ],
             [
              0.4444444444444444,
              "#bd3786"
             ],
             [
              0.5555555555555556,
              "#d8576b"
             ],
             [
              0.6666666666666666,
              "#ed7953"
             ],
             [
              0.7777777777777778,
              "#fb9f3a"
             ],
             [
              0.8888888888888888,
              "#fdca26"
             ],
             [
              1,
              "#f0f921"
             ]
            ],
            "type": "heatmapgl"
           }
          ],
          "histogram": [
           {
            "marker": {
             "pattern": {
              "fillmode": "overlay",
              "size": 10,
              "solidity": 0.2
             }
            },
            "type": "histogram"
           }
          ],
          "histogram2d": [
           {
            "colorbar": {
             "outlinewidth": 0,
             "ticks": ""
            },
            "colorscale": [
             [
              0,
              "#0d0887"
             ],
             [
              0.1111111111111111,
              "#46039f"
             ],
             [
              0.2222222222222222,
              "#7201a8"
             ],
             [
              0.3333333333333333,
              "#9c179e"
             ],
             [
              0.4444444444444444,
              "#bd3786"
             ],
             [
              0.5555555555555556,
              "#d8576b"
             ],
             [
              0.6666666666666666,
              "#ed7953"
             ],
             [
              0.7777777777777778,
              "#fb9f3a"
             ],
             [
              0.8888888888888888,
              "#fdca26"
             ],
             [
              1,
              "#f0f921"
             ]
            ],
            "type": "histogram2d"
           }
          ],
          "histogram2dcontour": [
           {
            "colorbar": {
             "outlinewidth": 0,
             "ticks": ""
            },
            "colorscale": [
             [
              0,
              "#0d0887"
             ],
             [
              0.1111111111111111,
              "#46039f"
             ],
             [
              0.2222222222222222,
              "#7201a8"
             ],
             [
              0.3333333333333333,
              "#9c179e"
             ],
             [
              0.4444444444444444,
              "#bd3786"
             ],
             [
              0.5555555555555556,
              "#d8576b"
             ],
             [
              0.6666666666666666,
              "#ed7953"
             ],
             [
              0.7777777777777778,
              "#fb9f3a"
             ],
             [
              0.8888888888888888,
              "#fdca26"
             ],
             [
              1,
              "#f0f921"
             ]
            ],
            "type": "histogram2dcontour"
           }
          ],
          "mesh3d": [
           {
            "colorbar": {
             "outlinewidth": 0,
             "ticks": ""
            },
            "type": "mesh3d"
           }
          ],
          "parcoords": [
           {
            "line": {
             "colorbar": {
              "outlinewidth": 0,
              "ticks": ""
             }
            },
            "type": "parcoords"
           }
          ],
          "pie": [
           {
            "automargin": true,
            "type": "pie"
           }
          ],
          "scatter": [
           {
            "fillpattern": {
             "fillmode": "overlay",
             "size": 10,
             "solidity": 0.2
            },
            "type": "scatter"
           }
          ],
          "scatter3d": [
           {
            "line": {
             "colorbar": {
              "outlinewidth": 0,
              "ticks": ""
             }
            },
            "marker": {
             "colorbar": {
              "outlinewidth": 0,
              "ticks": ""
             }
            },
            "type": "scatter3d"
           }
          ],
          "scattercarpet": [
           {
            "marker": {
             "colorbar": {
              "outlinewidth": 0,
              "ticks": ""
             }
            },
            "type": "scattercarpet"
           }
          ],
          "scattergeo": [
           {
            "marker": {
             "colorbar": {
              "outlinewidth": 0,
              "ticks": ""
             }
            },
            "type": "scattergeo"
           }
          ],
          "scattergl": [
           {
            "marker": {
             "colorbar": {
              "outlinewidth": 0,
              "ticks": ""
             }
            },
            "type": "scattergl"
           }
          ],
          "scattermapbox": [
           {
            "marker": {
             "colorbar": {
              "outlinewidth": 0,
              "ticks": ""
             }
            },
            "type": "scattermapbox"
           }
          ],
          "scatterpolar": [
           {
            "marker": {
             "colorbar": {
              "outlinewidth": 0,
              "ticks": ""
             }
            },
            "type": "scatterpolar"
           }
          ],
          "scatterpolargl": [
           {
            "marker": {
             "colorbar": {
              "outlinewidth": 0,
              "ticks": ""
             }
            },
            "type": "scatterpolargl"
           }
          ],
          "scatterternary": [
           {
            "marker": {
             "colorbar": {
              "outlinewidth": 0,
              "ticks": ""
             }
            },
            "type": "scatterternary"
           }
          ],
          "surface": [
           {
            "colorbar": {
             "outlinewidth": 0,
             "ticks": ""
            },
            "colorscale": [
             [
              0,
              "#0d0887"
             ],
             [
              0.1111111111111111,
              "#46039f"
             ],
             [
              0.2222222222222222,
              "#7201a8"
             ],
             [
              0.3333333333333333,
              "#9c179e"
             ],
             [
              0.4444444444444444,
              "#bd3786"
             ],
             [
              0.5555555555555556,
              "#d8576b"
             ],
             [
              0.6666666666666666,
              "#ed7953"
             ],
             [
              0.7777777777777778,
              "#fb9f3a"
             ],
             [
              0.8888888888888888,
              "#fdca26"
             ],
             [
              1,
              "#f0f921"
             ]
            ],
            "type": "surface"
           }
          ],
          "table": [
           {
            "cells": {
             "fill": {
              "color": "#EBF0F8"
             },
             "line": {
              "color": "white"
             }
            },
            "header": {
             "fill": {
              "color": "#C8D4E3"
             },
             "line": {
              "color": "white"
             }
            },
            "type": "table"
           }
          ]
         },
         "layout": {
          "annotationdefaults": {
           "arrowcolor": "#2a3f5f",
           "arrowhead": 0,
           "arrowwidth": 1
          },
          "autotypenumbers": "strict",
          "coloraxis": {
           "colorbar": {
            "outlinewidth": 0,
            "ticks": ""
           }
          },
          "colorscale": {
           "diverging": [
            [
             0,
             "#8e0152"
            ],
            [
             0.1,
             "#c51b7d"
            ],
            [
             0.2,
             "#de77ae"
            ],
            [
             0.3,
             "#f1b6da"
            ],
            [
             0.4,
             "#fde0ef"
            ],
            [
             0.5,
             "#f7f7f7"
            ],
            [
             0.6,
             "#e6f5d0"
            ],
            [
             0.7,
             "#b8e186"
            ],
            [
             0.8,
             "#7fbc41"
            ],
            [
             0.9,
             "#4d9221"
            ],
            [
             1,
             "#276419"
            ]
           ],
           "sequential": [
            [
             0,
             "#0d0887"
            ],
            [
             0.1111111111111111,
             "#46039f"
            ],
            [
             0.2222222222222222,
             "#7201a8"
            ],
            [
             0.3333333333333333,
             "#9c179e"
            ],
            [
             0.4444444444444444,
             "#bd3786"
            ],
            [
             0.5555555555555556,
             "#d8576b"
            ],
            [
             0.6666666666666666,
             "#ed7953"
            ],
            [
             0.7777777777777778,
             "#fb9f3a"
            ],
            [
             0.8888888888888888,
             "#fdca26"
            ],
            [
             1,
             "#f0f921"
            ]
           ],
           "sequentialminus": [
            [
             0,
             "#0d0887"
            ],
            [
             0.1111111111111111,
             "#46039f"
            ],
            [
             0.2222222222222222,
             "#7201a8"
            ],
            [
             0.3333333333333333,
             "#9c179e"
            ],
            [
             0.4444444444444444,
             "#bd3786"
            ],
            [
             0.5555555555555556,
             "#d8576b"
            ],
            [
             0.6666666666666666,
             "#ed7953"
            ],
            [
             0.7777777777777778,
             "#fb9f3a"
            ],
            [
             0.8888888888888888,
             "#fdca26"
            ],
            [
             1,
             "#f0f921"
            ]
           ]
          },
          "colorway": [
           "#636efa",
           "#EF553B",
           "#00cc96",
           "#ab63fa",
           "#FFA15A",
           "#19d3f3",
           "#FF6692",
           "#B6E880",
           "#FF97FF",
           "#FECB52"
          ],
          "font": {
           "color": "#2a3f5f"
          },
          "geo": {
           "bgcolor": "white",
           "lakecolor": "white",
           "landcolor": "#E5ECF6",
           "showlakes": true,
           "showland": true,
           "subunitcolor": "white"
          },
          "hoverlabel": {
           "align": "left"
          },
          "hovermode": "closest",
          "mapbox": {
           "style": "light"
          },
          "paper_bgcolor": "white",
          "plot_bgcolor": "#E5ECF6",
          "polar": {
           "angularaxis": {
            "gridcolor": "white",
            "linecolor": "white",
            "ticks": ""
           },
           "bgcolor": "#E5ECF6",
           "radialaxis": {
            "gridcolor": "white",
            "linecolor": "white",
            "ticks": ""
           }
          },
          "scene": {
           "xaxis": {
            "backgroundcolor": "#E5ECF6",
            "gridcolor": "white",
            "gridwidth": 2,
            "linecolor": "white",
            "showbackground": true,
            "ticks": "",
            "zerolinecolor": "white"
           },
           "yaxis": {
            "backgroundcolor": "#E5ECF6",
            "gridcolor": "white",
            "gridwidth": 2,
            "linecolor": "white",
            "showbackground": true,
            "ticks": "",
            "zerolinecolor": "white"
           },
           "zaxis": {
            "backgroundcolor": "#E5ECF6",
            "gridcolor": "white",
            "gridwidth": 2,
            "linecolor": "white",
            "showbackground": true,
            "ticks": "",
            "zerolinecolor": "white"
           }
          },
          "shapedefaults": {
           "line": {
            "color": "#2a3f5f"
           }
          },
          "ternary": {
           "aaxis": {
            "gridcolor": "white",
            "linecolor": "white",
            "ticks": ""
           },
           "baxis": {
            "gridcolor": "white",
            "linecolor": "white",
            "ticks": ""
           },
           "bgcolor": "#E5ECF6",
           "caxis": {
            "gridcolor": "white",
            "linecolor": "white",
            "ticks": ""
           }
          },
          "title": {
           "x": 0.05
          },
          "xaxis": {
           "automargin": true,
           "gridcolor": "white",
           "linecolor": "white",
           "ticks": "",
           "title": {
            "standoff": 15
           },
           "zerolinecolor": "white",
           "zerolinewidth": 2
          },
          "yaxis": {
           "automargin": true,
           "gridcolor": "white",
           "linecolor": "white",
           "ticks": "",
           "title": {
            "standoff": 15
           },
           "zerolinecolor": "white",
           "zerolinewidth": 2
          }
         }
        },
        "title": {
         "text": "Inflation & GDP"
        },
        "xaxis": {
         "range": [
          "2005-01-01",
          "2020-12-31"
         ],
         "rangeslider": {
          "visible": true
         }
        }
       }
      }
     },
     "metadata": {},
     "output_type": "display_data"
    }
   ],
   "source": [
    "fig = go.Figure()\n",
    "\n",
    "fig.add_trace(go.Scatter(\n",
    "    x=Inflation_Netherlands.index,\n",
    "    y=Inflation_Netherlands['World Development Indicators'],\n",
    "    name='Inflation_NL%',\n",
    "    line_color='blue',\n",
    "    opacity=0.9\n",
    "))\n",
    "fig.add_trace(go.Scatter(\n",
    "    x=Inflation_Germany.index,\n",
    "    y=Inflation_Germany['World Development Indicators'],\n",
    "    name='Inflation_GR%',\n",
    "    line_color='red',\n",
    "    opacity=0.9\n",
    "))\n",
    "fig.add_trace(go.Scatter(\n",
    "    x=GDP_Netherlands.index,\n",
    "    y=GDP_Netherlands['World Development Indicators'],\n",
    "    name='GDP_NL%',\n",
    "    line_color='brown',\n",
    "    opacity=0.9\n",
    "))\n",
    "fig.add_trace(go.Scatter(\n",
    "    x=GDP_Germany.index,\n",
    "    y=GDP_Germany['World Development Indicators'],\n",
    "    name='GDP_GR%',\n",
    "    line_color='pink',\n",
    "    opacity=0.9\n",
    "))\n",
    "fig.update_layout(xaxis_range=['2005-01-01','2020-12-31'],\n",
    "    title_text='Inflation & GDP',\n",
    "    xaxis_rangeslider_visible=True\n",
    "     )\n",
    "\n",
    "fig.show()"
   ]
  }
 ],
 "metadata": {
  "kernelspec": {
   "display_name": "Python 3",
   "language": "python",
   "name": "python3"
  },
  "language_info": {
   "codemirror_mode": {
    "name": "ipython",
    "version": 3
   },
   "file_extension": ".py",
   "mimetype": "text/x-python",
   "name": "python",
   "nbconvert_exporter": "python",
   "pygments_lexer": "ipython3",
   "version": "3.10.0"
  },
  "orig_nbformat": 4,
  "vscode": {
   "interpreter": {
    "hash": "afb734500600fd355917ca529030176ea0ca205570884b88f2f6f7d791fd3fbe"
   }
  }
 },
 "nbformat": 4,
 "nbformat_minor": 2
}
